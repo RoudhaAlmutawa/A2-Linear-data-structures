{
  "nbformat": 4,
  "nbformat_minor": 0,
  "metadata": {
    "colab": {
      "provenance": [],
      "authorship_tag": "ABX9TyMgzFfo1cfPvA3U7nndeH7F",
      "include_colab_link": true
    },
    "kernelspec": {
      "name": "python3",
      "display_name": "Python 3"
    },
    "language_info": {
      "name": "python"
    }
  },
  "cells": [
    {
      "cell_type": "markdown",
      "metadata": {
        "id": "view-in-github",
        "colab_type": "text"
      },
      "source": [
        "<a href=\"https://colab.research.google.com/github/RoudhaAlmutawa/A2-Linear-data-structures/blob/main/A2_Linear_data_structures.ipynb\" target=\"_parent\"><img src=\"https://colab.research.google.com/assets/colab-badge.svg\" alt=\"Open In Colab\"/></a>"
      ]
    },
    {
      "cell_type": "markdown",
      "source": [
        "# Patient record management system"
      ],
      "metadata": {
        "id": "E2CSInJ3soTl"
      }
    },
    {
      "cell_type": "code",
      "source": [
        "from collections import deque\n",
        "from datetime import datetime\n",
        "\n",
        "class Patient:\n",
        "  \"\"\"class to represent a Patient\"\"\"\n",
        "  def __init__(self, patientName, patientID, medicalHistory=None, currentCondition=None):\n",
        "    self.name= name\n",
        "    self.patientName= patientName\n",
        "    self.medicalHistory= medicalHistory if medicalHistory else []  # List to store medical history\n",
        "    self.currentCondition= currentCondition if currentCondition else \"\"\n",
        "\n",
        "class Prescription:\n",
        "  def __init__(self, medication, dosage):\n",
        "    self.medication= medication\n",
        "    self.dosage = dosage\n",
        "\n",
        "class Doctor:\n",
        "  def __init__(self,doctorName, specialty):\n",
        "    self.doctorName= doctorName\n",
        "    self.specialty=specialty\n",
        "\n",
        "class Appointment:\n",
        "  def __init__(self, patientName, doctorName, appointmentDate):\n",
        "    self.patientName= patientName\n",
        "    self.doctorName= doctorName\n",
        "    self.appointmentDate=appointmentDate\n",
        "\n",
        "class PatientRecordSystem:\n",
        "  def __init__(self):\n",
        "    self.patient_records = {}  # Dictionary to store patient records, where patient_id is the key and Patient object is the value\n",
        "    self.consultation_queue = deque() # Deque to maintain a queue of patients waiting for consultations\n",
        "    self.prescription_stack ={}   # Dictionary to store prescriptions issued to patients, where patient_id is the key and list of Prescription objects is the value\n",
        "\n",
        "  def add_patient(self, patient):\n",
        "    if patient.patientID not in self.patient_records:\n",
        "            self.patient_records[patient.patientID] = patient\n",
        "            print(f\"Patient {patient.name} added successfully.\")\n",
        "    else:\n",
        "            print(\"Patient with the same ID already exists.\")\n",
        "\n",
        "  def remove_patient(self, patientID):\n",
        "    if patientID in self.patient_records:\n",
        "      del patient_records[patientID]\n",
        "      print(\"the patient is removed successfully\")\n",
        "    else:\n",
        "      print(\"the patient is not found\")\n",
        "\n",
        "  def update_patient(self, patientID, newDetails):\n",
        "    if patientID in self.patient_records:\n",
        "      patient = self.patient_records[patientID]\n",
        "      for key, value in new_details.items():\n",
        "                if hasattr(patient, key):    #Checks if the patient object has an attribute with the name specified by the 'key'\n",
        "                    setattr(patient, key, value)    #Checks if the attribute exists, set its value to the corresponding value from 'new_details'\n",
        "                    print(\"The patient details is updated successfully.\")\n",
        "      else:\n",
        "        print(\"The patient is not found.\")\n",
        "\n"
      ],
      "metadata": {
        "id": "epf5Vkc8t2kM"
      },
      "execution_count": 8,
      "outputs": []
    }
  ]
}