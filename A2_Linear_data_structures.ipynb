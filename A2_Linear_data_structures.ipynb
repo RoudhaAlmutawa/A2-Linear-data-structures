{
  "nbformat": 4,
  "nbformat_minor": 0,
  "metadata": {
    "colab": {
      "provenance": [],
      "include_colab_link": true
    },
    "kernelspec": {
      "name": "python3",
      "display_name": "Python 3"
    },
    "language_info": {
      "name": "python"
    }
  },
  "cells": [
    {
      "cell_type": "markdown",
      "metadata": {
        "id": "view-in-github",
        "colab_type": "text"
      },
      "source": [
        "<a href=\"https://colab.research.google.com/github/RoudhaAlmutawa/A2-Linear-data-structures/blob/main/A2_Linear_data_structures.ipynb\" target=\"_parent\"><img src=\"https://colab.research.google.com/assets/colab-badge.svg\" alt=\"Open In Colab\"/></a>"
      ]
    },
    {
      "cell_type": "markdown",
      "source": [
        "# Patient record management system"
      ],
      "metadata": {
        "id": "E2CSInJ3soTl"
      }
    },
    {
      "cell_type": "code",
      "source": [
        "from collections import deque\n",
        "from datetime import datetime\n",
        "\n",
        "class Patient:\n",
        "    \"\"\" Class to represent a Patient \"\"\"\n",
        "    def __init__(self, name, patientID, medicalHistory=None, currentCondition=None, admissionDate=None):\n",
        "        self.name = name\n",
        "        self.patientID = patientID\n",
        "        self.medicalHistory = medicalHistory if medicalHistory else []  # Using a list to store medical history\n",
        "        self.currentCondition = currentCondition if currentCondition else \"\"\n",
        "        self.admissionDate = admissionDate if admissionDate else datetime.now()\n",
        "\n",
        "class Prescription:\n",
        "    \"\"\" Class to represent a Prescription \"\"\"\n",
        "    def __init__(self, medication, dosage):\n",
        "        self.medication = medication\n",
        "        self.dosage = dosage\n",
        "\n",
        "class Doctor:\n",
        "    \"\"\" Class to represent a Doctor \"\"\"\n",
        "    def __init__(self, doctorName, specialty):\n",
        "        self.doctorName = doctorName\n",
        "        self.specialty = specialty\n",
        "\n",
        "class Appointment:\n",
        "    \"\"\" Class to represent an Appointment \"\"\"\n",
        "    def __init__(self, patientName, doctorName, appointmentDate):\n",
        "        self.patientName = patientName\n",
        "        self.doctorName = doctorName\n",
        "        self.appointmentDate = appointmentDate\n",
        "\n",
        "class PatientRecordSystem:\n",
        "    \"\"\" Class to manage patient records \"\"\"\n",
        "    def __init__(self):\n",
        "        self.patient_records = {}  # Dictionary to store patient records, where patientID is the key and Patient object is the value\n",
        "        self.consultation_queue_head = None  # Head pointer for the linked list representing the consultation queue\n",
        "        self.prescription_stack = {}   # Dictionary to store prescriptions issued to patients, where patientID is the key and list of Prescription objects is the value\n",
        "        self.appointments = {}  # Dictionary to store appointments, where patientID is the key and Appointment object is the value\n",
        "\n",
        "\n",
        "    def add_patient(self, patient):\n",
        "        \"\"\" Add a new patient to the records \"\"\"\n",
        "        if patient.patientID not in self.patient_records:\n",
        "            self.patient_records[patient.patientID] = patient\n",
        "            print(f\"Patient {patient.name} added successfully.\")\n",
        "        else:\n",
        "            print(\"Patient with the same ID already exists.\")\n",
        "\n",
        "    def remove_patient(self, patientID):\n",
        "        \"\"\" Remove a patient from the records \"\"\"\n",
        "        if patientID in self.patient_records:\n",
        "            del self.patient_records[patientID]\n",
        "            print(\"The patient is removed successfully.\")\n",
        "        else:\n",
        "            print(\"The patient is not found.\")\n",
        "\n",
        "    def update_patient(self, patientID, newDetails):\n",
        "        \"\"\" Update patient details \"\"\"\n",
        "        if patientID in self.patient_records:\n",
        "            patient = self.patient_records[patientID]\n",
        "            for key, value in newDetails.items():\n",
        "                if hasattr(patient, key):\n",
        "                    setattr(patient, key, value)   # Using setattr to dynamically update patient attributes\n",
        "            print(\"The patient details are updated successfully.\")\n",
        "        else:\n",
        "            print(\"The patient is not found.\")\n",
        "\n",
        "    def search_patient(self, patientID):\n",
        "        \"\"\" Search for a patient and display a summary \"\"\"\n",
        "        if patientID in self.patient_records:\n",
        "            patient = self.patient_records[patientID]\n",
        "            print(f\"Patient Name: {patient.name}\")\n",
        "            print(f\"Patient ID: {patient.patientID}\")\n",
        "            print(f\"Medical History: {patient.medicalHistory}\")\n",
        "            print(f\"Current Condition: {patient.currentCondition}\")\n",
        "            if patientID in self.prescription_stack:\n",
        "                prescriptions = self.prescription_stack[patientID]\n",
        "                print(\"Prescriptions:\")\n",
        "                for prescription in prescriptions:\n",
        "                    print(f\"- Medication: {prescription.medication}, Dosage: {prescription.dosage}\")\n",
        "        else:\n",
        "            print(\"Patient not found.\")\n",
        "\n",
        "    def add_to_consultation_queue(self, patient):\n",
        "        \"\"\" Add a patient to the consultation queue \"\"\"\n",
        "        self.consultation_queue.append(patient)  # Using deque's append method to add a patient to the queue\n",
        "        print(f\"Patient {patient.name} added to the consultation queue.\")\n",
        "\n",
        "    def remove_from_consultation_queue(self):\n",
        "        \"\"\" Remove a patient from the consultation queue \"\"\"\n",
        "        if self.consultation_queue:\n",
        "            return self.consultation_queue.popleft()  # Using deque's popleft method to remove a patient from the queue (FIFO)\n",
        "        else:\n",
        "            print(\"No patients in the consultation queue.\")\n",
        "\n",
        "    def sort_records_by_condition(self):\n",
        "        \"\"\" Sort patient records by condition \"\"\"\n",
        "        return sorted(self.patient_records.values(), key=lambda x: x.currentCondition)  # Using sorted function to sort patient records based on current condition\n",
        "\n",
        "    def issue_prescription(self, patientID, medication, dosage):\n",
        "        \"\"\" Issue a prescription to a patient \"\"\"\n",
        "        if patientID in self.patient_records:\n",
        "            prescription = Prescription(medication, dosage)\n",
        "            if patientID in self.prescription_stack:\n",
        "                self.prescription_stack[patientID].append(prescription)  # Using dictionary's append method to add a prescription to the patient's stack\n",
        "            else:\n",
        "                self.prescription_stack[patientID] = [prescription]  # Creating a new stack for the patient if not exists\n",
        "            print(\"Prescription issued successfully.\")\n",
        "        else:\n",
        "            print(\"Patient not found.\")\n",
        "\n",
        "    def schedule_appointment(self, patientID, doctor, appointmentDate):\n",
        "        \"\"\" Schedule an appointment for a patient with a specific doctor \"\"\"\n",
        "        if patientID in self.patient_records:\n",
        "            patient = self.patient_records[patientID]\n",
        "            appointment = Appointment(patient.name, doctor.doctorName, appointmentDate)\n",
        "            self.appointments[patientID] = appointment  # Store the appointment in the appointments dictionary\n",
        "            print(f\"Appointment scheduled for {patient.name} with Dr. {doctor.doctorName} on {appointmentDate}.\")\n",
        "        else:\n",
        "            print(\"Patient not found.\")\n",
        "\n",
        "    def remove_patient_from_queue(self, patientID):\n",
        "      \"\"\" Remove a patient from the consultation queue \"\"\"\n",
        "      for patient in self.consultation_queue:\n",
        "        if patient.patientID == patientID:\n",
        "          self.consultation_queue.remove(patient)\n",
        "          print(f\"Patient {patient.name} removed from the consultation queue.\")\n",
        "          return\n",
        "          print(\"Patient not found in the consultation queue.\")"
      ],
      "metadata": {
        "id": "epf5Vkc8t2kM"
      },
      "execution_count": null,
      "outputs": []
    },
    {
      "cell_type": "markdown",
      "source": [
        "# Test cases"
      ],
      "metadata": {
        "id": "8u5OaC4OvgNT"
      }
    },
    {
      "cell_type": "code",
      "source": [
        "# Test Case 1: Adding a New Patient Record\n",
        "def test_add_patient():\n",
        "    prs = PatientRecordSystem()\n",
        "\n",
        "    # Test adding a new patient record with empty medical history\n",
        "    patient1 = Patient(\"Roudha\", \"P001\")\n",
        "    prs.add_patient(patient1)\n",
        "\n",
        "    # Verify that the patient record was added successfully\n",
        "    assert \"P001\" in prs.patient_records.keys()\n",
        "    assert prs.patient_records[\"P001\"].name == \"Roudha\"\n",
        "    assert prs.patient_records[\"P001\"].medicalHistory == []\n",
        "    assert prs.patient_records[\"P001\"].currentCondition == \"\"\n",
        "\n",
        "    # Test adding a new patient record with multiple medical conditions and current condition\n",
        "    patient2 = Patient(\"Aisha\", \"P002\", [\"Hypertension\", \"Diabetes\"], \"Fever\")\n",
        "    prs.add_patient(patient2)\n",
        "\n",
        "    # Verify that the patient record was added successfully\n",
        "    assert \"P002\" in prs.patient_records.keys()\n",
        "    assert prs.patient_records[\"P002\"].name == \"Aisha\"\n",
        "    assert prs.patient_records[\"P002\"].medicalHistory == [\"Hypertension\", \"Diabetes\"]\n",
        "    assert prs.patient_records[\"P002\"].currentCondition == \"Fever\"\n",
        "\n",
        "    # Test adding a patient with an existing patient ID\n",
        "    patient3 = Patient(\"Maitha\", \"P001\", [\"Asthma\"], \"Flu\")\n",
        "    prs.add_patient(patient3)\n",
        "    assert \"P001\" in prs.patient_records.keys()  # The existing patient record should not be overwritten\n",
        "\n",
        "test_add_patient()"
      ],
      "metadata": {
        "colab": {
          "base_uri": "https://localhost:8080/"
        },
        "id": "u3i-d8zTvi4q",
        "outputId": "286368d3-97f6-4371-d552-76cfb59a2650"
      },
      "execution_count": null,
      "outputs": [
        {
          "output_type": "stream",
          "name": "stdout",
          "text": [
            "Patient Roudha added successfully.\n",
            "Patient Aisha added successfully.\n",
            "Patient with the same ID already exists.\n"
          ]
        }
      ]
    },
    {
      "cell_type": "code",
      "source": [
        "#Test Case 2: Updating an Existing Patient Record\n",
        "def test_update_patient():\n",
        "    prs = PatientRecordSystem()\n",
        "\n",
        "    # Add a patient record\n",
        "    patient = Patient(\"Roudha\", \"P001\", [\"Allergy\"], \"Fever\")\n",
        "    prs.add_patient(patient)\n",
        "\n",
        "    # Test updating the patient record with new details\n",
        "    prs.update_patient(\"P001\", {\"currentCondition\": \"Cold\"})\n",
        "\n",
        "    # Verify that the patient record was updated successfully\n",
        "    assert prs.patient_records[\"P001\"].currentCondition == \"Cold\"\n",
        "\n",
        "    # Test updating a non-existent patient record\n",
        "    prs.update_patient(\"P002\", {\"currentCondition\": \"Flu\"})\n",
        "    assert \"P002\" not in prs.patient_records.keys()  # No new patient record should be created\n",
        "\n",
        "test_update_patient()"
      ],
      "metadata": {
        "colab": {
          "base_uri": "https://localhost:8080/"
        },
        "id": "VXER2W0dvt9i",
        "outputId": "cb9e3936-a48f-4436-df68-745cc3fb123c"
      },
      "execution_count": null,
      "outputs": [
        {
          "output_type": "stream",
          "name": "stdout",
          "text": [
            "Patient Roudha added successfully.\n",
            "The patient details are updated successfully.\n",
            "The patient is not found.\n"
          ]
        }
      ]
    },
    {
      "cell_type": "code",
      "source": [
        "#Test Case 3: Removing a Patient Record\n",
        "def test_remove_patient():\n",
        "    prs = PatientRecordSystem()\n",
        "\n",
        "    # Add a patient record\n",
        "    patient = Patient(\"Roudha\", \"P001\", [\"Allergy\"], \"Fever\")\n",
        "    prs.add_patient(patient)\n",
        "\n",
        "    # Test removing the patient record\n",
        "    prs.remove_patient(\"P001\")\n",
        "\n",
        "    # Verify that the patient record was removed successfully\n",
        "    assert \"P001\" not in prs.patient_records.keys()\n",
        "\n",
        "    # Test removing a non-existent patient record\n",
        "    prs.remove_patient(\"P002\")  # Non-existent patient ID\n",
        "    assert \"P002\" not in prs.patient_records.keys()\n",
        "\n",
        "test_remove_patient()"
      ],
      "metadata": {
        "colab": {
          "base_uri": "https://localhost:8080/"
        },
        "id": "ncOo8ovlv1h5",
        "outputId": "8082fb85-568f-42c6-cc7e-c421011ccb1e"
      },
      "execution_count": null,
      "outputs": [
        {
          "output_type": "stream",
          "name": "stdout",
          "text": [
            "Patient Roudha added successfully.\n",
            "The patient is removed successfully.\n",
            "The patient is not found.\n"
          ]
        }
      ]
    },
    {
      "cell_type": "code",
      "source": [
        "#Test Case 4: Scheduling an Appointment for a Patient\n",
        "def test_schedule_appointment():\n",
        "    prs = PatientRecordSystem()\n",
        "\n",
        "    # Add a patient record\n",
        "    patient = Patient(\"Roudha\", \"P001\", [\"Allergy\"], \"Fever\")\n",
        "    prs.add_patient(patient)\n",
        "\n",
        "    # Test scheduling an appointment for a future date\n",
        "    doctor = Doctor(\"Dr. Reem\", \"Cardiologist\")\n",
        "    appointmentDate = \"2025-04-15\"\n",
        "    prs.schedule_appointment(\"P001\", doctor, appointmentDate)\n",
        "\n",
        "    # Verify that the appointment was scheduled\n",
        "    assert \"P001\" in prs.appointments.keys()\n",
        "\n",
        "test_schedule_appointment()\n"
      ],
      "metadata": {
        "colab": {
          "base_uri": "https://localhost:8080/"
        },
        "id": "BemMzb0_wngC",
        "outputId": "efb2a3c9-3954-4e20-ad96-9817c0e72aed"
      },
      "execution_count": null,
      "outputs": [
        {
          "output_type": "stream",
          "name": "stdout",
          "text": [
            "Patient Roudha added successfully.\n",
            "Appointment scheduled for Roudha with Dr. Dr. Reem on 2025-04-15.\n"
          ]
        }
      ]
    },
    {
      "cell_type": "code",
      "source": [
        "#Test Case 5: Issuing a Prescription to a Patient\n",
        "def test_issue_prescription():\n",
        "    prs = PatientRecordSystem()\n",
        "\n",
        "    # Test issuing a prescription to a non-existent patient\n",
        "    prs.issue_prescription(\"P001\", \"Medicine A\", \"1 pill daily\")  # Non-existent patient ID\n",
        "    assert \"P001\" not in prs.prescription_stack.keys()\n",
        "\n",
        "    # Add a patient record\n",
        "    patient = Patient(\"Roudha \", \"P001\", [\"Allergy\"], \"Fever\")\n",
        "    prs.add_patient(patient)\n",
        "\n",
        "    # Test issuing multiple prescriptions to the same patient\n",
        "    prs.issue_prescription(\"P001\", \"Medicine A\", \"1 pill daily\")\n",
        "    prs.issue_prescription(\"P001\", \"Medicine B\", \"2 pills twice daily\")\n",
        "\n",
        "    # Verify that the prescriptions were issued successfully\n",
        "    assert len(prs.prescription_stack[\"P001\"]) == 2\n",
        "    assert prs.prescription_stack[\"P001\"][0].medication == \"Medicine A\"\n",
        "    assert prs.prescription_stack[\"P001\"][1].dosage == \"2 pills twice daily\"\n",
        "\n",
        "test_issue_prescription()\n",
        "\n"
      ],
      "metadata": {
        "colab": {
          "base_uri": "https://localhost:8080/"
        },
        "id": "7zz365-zv-8x",
        "outputId": "29e2d7a5-4ae9-4767-b083-9397bde0f814"
      },
      "execution_count": null,
      "outputs": [
        {
          "output_type": "stream",
          "name": "stdout",
          "text": [
            "Patient not found.\n",
            "Patient Roudha  added successfully.\n",
            "Prescription issued successfully.\n",
            "Prescription issued successfully.\n"
          ]
        }
      ]
    },
    {
      "cell_type": "code",
      "source": [
        "#Test Case 6: Searching for a Patient\n",
        "def test_search_patient():\n",
        "    prs = PatientRecordSystem()\n",
        "\n",
        "    # Test searching for a non-existent patient\n",
        "    searched_patient = prs.search_patient(\"P001\")  # Non-existent patient ID\n",
        "    assert searched_patient is None\n",
        "\n",
        "    # Add a patient record\n",
        "    patient = Patient(\"Roudha\", \"P001\", [\"Allergy\"], \"Fever\")\n",
        "    prs.add_patient(patient)\n",
        "\n",
        "    # Search for the patient\n",
        "    searched_patient = prs.search_patient(\"P001\")\n",
        "\n",
        "\n",
        "test_search_patient()"
      ],
      "metadata": {
        "colab": {
          "base_uri": "https://localhost:8080/"
        },
        "id": "494UaZRvb0f8",
        "outputId": "894e436d-b549-4db7-dea6-623153bb05e2"
      },
      "execution_count": null,
      "outputs": [
        {
          "output_type": "stream",
          "name": "stdout",
          "text": [
            "Patient not found.\n",
            "Patient Roudha added successfully.\n",
            "Patient Name: Roudha\n",
            "Patient ID: P001\n",
            "Medical History: ['Allergy']\n",
            "Current Condition: Fever\n"
          ]
        }
      ]
    },
    {
      "cell_type": "markdown",
      "source": [
        "# Menu-based Interface"
      ],
      "metadata": {
        "id": "8B9iPqcNwW3W"
      }
    },
    {
      "cell_type": "code",
      "source": [
        "def display_menu():\n",
        "    print(\"Patient Record Management System Menu:\")\n",
        "    print(\"1. Add a new patient record\")\n",
        "    print(\"2. Update an existing patient record\")\n",
        "    print(\"3. Remove a patient record\")\n",
        "    print(\"4. Schedule an appointment for a patient\")\n",
        "    print(\"5. Add a patient to the consultation queue\")\n",
        "    print(\"6. Remove a patient from the consultation queue\")\n",
        "    print(\"7. Issue a prescription to a patient\")\n",
        "    print(\"8. Search for a patient\")\n",
        "    print(\"9. Exit\")\n",
        "\n",
        "def main():\n",
        "    prs = PatientRecordSystem()\n",
        "    while True:\n",
        "        display_menu()\n",
        "        choice = input(\"Enter your choice: \")\n",
        "\n",
        "        if choice == \"1\":\n",
        "            # Add a new patient record\n",
        "            name = input(\"Enter patient name: \")\n",
        "            patientID = input(\"Enter patient ID: \")\n",
        "            medicalHistory = input(\"Enter patient's medical history (separated by commas): \").split(',')\n",
        "            currentCondition = input(\"Enter patient's current condition: \")\n",
        "            patient = Patient(name, patientID, medicalHistory, currentCondition)\n",
        "            prs.add_patient(patient)\n",
        "\n",
        "        elif choice == \"2\":\n",
        "            # Update an existing patient record\n",
        "            patientID = input(\"Enter patient ID to update: \")\n",
        "            new_details = {}\n",
        "            field = input(\"Enter field to update (name, medicalHistory, currentCondition): \")\n",
        "            value = input(\"Enter new value: \")\n",
        "            new_details[field] = value\n",
        "            prs.update_patient(patientID, new_details)\n",
        "\n",
        "        elif choice == \"3\":\n",
        "            # Remove a patient record\n",
        "            patientID = input(\"Enter patient ID to remove: \")\n",
        "            prs.remove_patient(patientID)\n",
        "\n",
        "        elif choice == \"4\":\n",
        "            # Schedule an appointment for a patient\n",
        "            patientID = input(\"Enter patient ID to schedule appointment: \")\n",
        "            doctorName = input(\"Enter doctor's name: \")\n",
        "            specialty = input(\"Enter doctor's specialty: \")\n",
        "            appointmentDate = input(\"Enter appointment date: \")\n",
        "            doctor = Doctor(doctorName, specialty)\n",
        "            prs.schedule_appointment(patientID, doctor, appointmentDate)\n",
        "\n",
        "        elif choice == \"5\":\n",
        "            # Add a patient to the consultation queue\n",
        "            patientID = input(\"Enter patient ID to add to consultation queue: \")\n",
        "            prs.add_to_consultation_queue(patientID)\n",
        "\n",
        "        elif choice == \"6\":\n",
        "            # Remove a patient from the consultation queue\n",
        "            prs.remove_from_consultation_queue()\n",
        "\n",
        "        elif choice == \"7\":\n",
        "            # Issue a prescription to a patient\n",
        "            patientID = input(\"Enter patient ID to issue prescription: \")\n",
        "            medication = input(\"Enter medication: \")\n",
        "            dosage = input(\"Enter dosage: \")\n",
        "            prs.issue_prescription(patientID, medication, dosage)\n",
        "\n",
        "        elif choice == \"8\":\n",
        "            # Search for a patient\n",
        "            patientID = input(\"Enter patient ID to search: \")\n",
        "            prs.search_patient(patientID)\n",
        "\n",
        "        elif choice == \"9\":\n",
        "            print(\"Exiting...\")\n",
        "            break\n",
        "\n",
        "        else:\n",
        "            print(\"Invalid choice. Please try again.\")\n",
        "\n",
        "main()  # Call the main function to start the menu-based interface"
      ],
      "metadata": {
        "colab": {
          "base_uri": "https://localhost:8080/"
        },
        "id": "Kk6ZeUHLwZYS",
        "outputId": "2b568aca-7383-45e5-f00b-4bf14bbd8022"
      },
      "execution_count": null,
      "outputs": [
        {
          "output_type": "stream",
          "name": "stdout",
          "text": [
            "Patient Record Management System Menu:\n",
            "1. Add a new patient record\n",
            "2. Update an existing patient record\n",
            "3. Remove a patient record\n",
            "4. Schedule an appointment for a patient\n",
            "5. Add a patient to the consultation queue\n",
            "6. Remove a patient from the consultation queue\n",
            "7. Issue a prescription to a patient\n",
            "8. Search for a patient\n",
            "9. Exit\n",
            "Enter your choice: 1\n",
            "Enter patient name: roudha\n",
            "Enter patient ID: 001\n",
            "Enter patient's medical history (separated by commas): fever\n",
            "Enter patient's current condition: good\n",
            "Patient roudha added successfully.\n",
            "Patient Record Management System Menu:\n",
            "1. Add a new patient record\n",
            "2. Update an existing patient record\n",
            "3. Remove a patient record\n",
            "4. Schedule an appointment for a patient\n",
            "5. Add a patient to the consultation queue\n",
            "6. Remove a patient from the consultation queue\n",
            "7. Issue a prescription to a patient\n",
            "8. Search for a patient\n",
            "9. Exit\n",
            "Enter your choice: 9\n",
            "Exiting...\n"
          ]
        }
      ]
    }
  ]
}